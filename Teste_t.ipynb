{
  "nbformat": 4,
  "nbformat_minor": 0,
  "metadata": {
    "colab": {
      "provenance": [],
      "authorship_tag": "ABX9TyNRFuFuiMVJgLzd7Q/R+MDr",
      "include_colab_link": true
    },
    "kernelspec": {
      "name": "python3",
      "display_name": "Python 3"
    },
    "language_info": {
      "name": "python"
    }
  },
  "cells": [
    {
      "cell_type": "markdown",
      "metadata": {
        "id": "view-in-github",
        "colab_type": "text"
      },
      "source": [
        "<a href=\"https://colab.research.google.com/github/hsrpedro006/Collab-/blob/codigos/Teste_t.ipynb\" target=\"_parent\"><img src=\"https://colab.research.google.com/assets/colab-badge.svg\" alt=\"Open In Colab\"/></a>"
      ]
    },
    {
      "cell_type": "markdown",
      "source": [
        "# Teste t"
      ],
      "metadata": {
        "id": "w5fP8bqYeC6l"
      }
    },
    {
      "cell_type": "markdown",
      "source": [
        "## Bibliotecas\n"
      ],
      "metadata": {
        "id": "PGMmWPt9a_xa"
      }
    },
    {
      "cell_type": "code",
      "source": [
        "import numpy as np\n",
        "import pandas as pd\n",
        "from scipy import stats as st"
      ],
      "metadata": {
        "id": "wu46dDJXf-Lv"
      },
      "execution_count": 30,
      "outputs": []
    },
    {
      "cell_type": "markdown",
      "source": [
        "##Dados"
      ],
      "metadata": {
        "id": "XoAs0qwXgGOf"
      }
    },
    {
      "cell_type": "code",
      "source": [
        "df = pd.read_csv('salarios_profs.csv', encoding = 'latin-1', sep=';', decimal =',')"
      ],
      "metadata": {
        "id": "ro2-y49wgsMb"
      },
      "execution_count": 31,
      "outputs": []
    },
    {
      "cell_type": "code",
      "source": [
        "unidades = ['ICMC', 'FEA', 'IME']\n",
        "jornada = 'RDIDP'\n",
        "funcao = 'Professor Titular'\n",
        "df_filtrado = df[(df['UNID_ORGAO'].isin(unidades)) & \\\n",
        "                 (df['JORNADA'] == jornada) & \\\n",
        "                 (df['FUNCAO'] == funcao)]"
      ],
      "metadata": {
        "id": "OmEpbyIGgHER"
      },
      "execution_count": 56,
      "outputs": []
    },
    {
      "cell_type": "code",
      "source": [
        "df_filtrado.groupby('UNID_ORGAO')['SALARIO_MENSAL_LIQUIDO'].describe()"
      ],
      "metadata": {
        "colab": {
          "base_uri": "https://localhost:8080/",
          "height": 175
        },
        "id": "uy1P3na4gHGf",
        "outputId": "36896997-d2a1-470a-f8da-9b71659891de"
      },
      "execution_count": 57,
      "outputs": [
        {
          "output_type": "execute_result",
          "data": {
            "text/plain": [
              "            count          mean          std       min         25%       50%  \\\n",
              "UNID_ORGAO                                                                     \n",
              "FEA          71.0  23604.992254  6177.725231      0.00  20815.5800  24524.94   \n",
              "ICMC         34.0  23877.174412  7878.579182   1370.86  19953.1275  23404.75   \n",
              "IME          57.0  25876.560351  5710.940993  16121.99  21896.4100  25985.18   \n",
              "\n",
              "                 75%       max  \n",
              "UNID_ORGAO                      \n",
              "FEA         26506.28  48590.51  \n",
              "ICMC        26835.86  41824.69  \n",
              "IME         27261.89  48091.92  "
            ],
            "text/html": [
              "\n",
              "  <div id=\"df-e4cf7a0a-293d-4154-8922-3757d766970c\" class=\"colab-df-container\">\n",
              "    <div>\n",
              "<style scoped>\n",
              "    .dataframe tbody tr th:only-of-type {\n",
              "        vertical-align: middle;\n",
              "    }\n",
              "\n",
              "    .dataframe tbody tr th {\n",
              "        vertical-align: top;\n",
              "    }\n",
              "\n",
              "    .dataframe thead th {\n",
              "        text-align: right;\n",
              "    }\n",
              "</style>\n",
              "<table border=\"1\" class=\"dataframe\">\n",
              "  <thead>\n",
              "    <tr style=\"text-align: right;\">\n",
              "      <th></th>\n",
              "      <th>count</th>\n",
              "      <th>mean</th>\n",
              "      <th>std</th>\n",
              "      <th>min</th>\n",
              "      <th>25%</th>\n",
              "      <th>50%</th>\n",
              "      <th>75%</th>\n",
              "      <th>max</th>\n",
              "    </tr>\n",
              "    <tr>\n",
              "      <th>UNID_ORGAO</th>\n",
              "      <th></th>\n",
              "      <th></th>\n",
              "      <th></th>\n",
              "      <th></th>\n",
              "      <th></th>\n",
              "      <th></th>\n",
              "      <th></th>\n",
              "      <th></th>\n",
              "    </tr>\n",
              "  </thead>\n",
              "  <tbody>\n",
              "    <tr>\n",
              "      <th>FEA</th>\n",
              "      <td>71.0</td>\n",
              "      <td>23604.992254</td>\n",
              "      <td>6177.725231</td>\n",
              "      <td>0.00</td>\n",
              "      <td>20815.5800</td>\n",
              "      <td>24524.94</td>\n",
              "      <td>26506.28</td>\n",
              "      <td>48590.51</td>\n",
              "    </tr>\n",
              "    <tr>\n",
              "      <th>ICMC</th>\n",
              "      <td>34.0</td>\n",
              "      <td>23877.174412</td>\n",
              "      <td>7878.579182</td>\n",
              "      <td>1370.86</td>\n",
              "      <td>19953.1275</td>\n",
              "      <td>23404.75</td>\n",
              "      <td>26835.86</td>\n",
              "      <td>41824.69</td>\n",
              "    </tr>\n",
              "    <tr>\n",
              "      <th>IME</th>\n",
              "      <td>57.0</td>\n",
              "      <td>25876.560351</td>\n",
              "      <td>5710.940993</td>\n",
              "      <td>16121.99</td>\n",
              "      <td>21896.4100</td>\n",
              "      <td>25985.18</td>\n",
              "      <td>27261.89</td>\n",
              "      <td>48091.92</td>\n",
              "    </tr>\n",
              "  </tbody>\n",
              "</table>\n",
              "</div>\n",
              "    <div class=\"colab-df-buttons\">\n",
              "\n",
              "  <div class=\"colab-df-container\">\n",
              "    <button class=\"colab-df-convert\" onclick=\"convertToInteractive('df-e4cf7a0a-293d-4154-8922-3757d766970c')\"\n",
              "            title=\"Convert this dataframe to an interactive table.\"\n",
              "            style=\"display:none;\">\n",
              "\n",
              "  <svg xmlns=\"http://www.w3.org/2000/svg\" height=\"24px\" viewBox=\"0 -960 960 960\">\n",
              "    <path d=\"M120-120v-720h720v720H120Zm60-500h600v-160H180v160Zm220 220h160v-160H400v160Zm0 220h160v-160H400v160ZM180-400h160v-160H180v160Zm440 0h160v-160H620v160ZM180-180h160v-160H180v160Zm440 0h160v-160H620v160Z\"/>\n",
              "  </svg>\n",
              "    </button>\n",
              "\n",
              "  <style>\n",
              "    .colab-df-container {\n",
              "      display:flex;\n",
              "      gap: 12px;\n",
              "    }\n",
              "\n",
              "    .colab-df-convert {\n",
              "      background-color: #E8F0FE;\n",
              "      border: none;\n",
              "      border-radius: 50%;\n",
              "      cursor: pointer;\n",
              "      display: none;\n",
              "      fill: #1967D2;\n",
              "      height: 32px;\n",
              "      padding: 0 0 0 0;\n",
              "      width: 32px;\n",
              "    }\n",
              "\n",
              "    .colab-df-convert:hover {\n",
              "      background-color: #E2EBFA;\n",
              "      box-shadow: 0px 1px 2px rgba(60, 64, 67, 0.3), 0px 1px 3px 1px rgba(60, 64, 67, 0.15);\n",
              "      fill: #174EA6;\n",
              "    }\n",
              "\n",
              "    .colab-df-buttons div {\n",
              "      margin-bottom: 4px;\n",
              "    }\n",
              "\n",
              "    [theme=dark] .colab-df-convert {\n",
              "      background-color: #3B4455;\n",
              "      fill: #D2E3FC;\n",
              "    }\n",
              "\n",
              "    [theme=dark] .colab-df-convert:hover {\n",
              "      background-color: #434B5C;\n",
              "      box-shadow: 0px 1px 3px 1px rgba(0, 0, 0, 0.15);\n",
              "      filter: drop-shadow(0px 1px 2px rgba(0, 0, 0, 0.3));\n",
              "      fill: #FFFFFF;\n",
              "    }\n",
              "  </style>\n",
              "\n",
              "    <script>\n",
              "      const buttonEl =\n",
              "        document.querySelector('#df-e4cf7a0a-293d-4154-8922-3757d766970c button.colab-df-convert');\n",
              "      buttonEl.style.display =\n",
              "        google.colab.kernel.accessAllowed ? 'block' : 'none';\n",
              "\n",
              "      async function convertToInteractive(key) {\n",
              "        const element = document.querySelector('#df-e4cf7a0a-293d-4154-8922-3757d766970c');\n",
              "        const dataTable =\n",
              "          await google.colab.kernel.invokeFunction('convertToInteractive',\n",
              "                                                    [key], {});\n",
              "        if (!dataTable) return;\n",
              "\n",
              "        const docLinkHtml = 'Like what you see? Visit the ' +\n",
              "          '<a target=\"_blank\" href=https://colab.research.google.com/notebooks/data_table.ipynb>data table notebook</a>'\n",
              "          + ' to learn more about interactive tables.';\n",
              "        element.innerHTML = '';\n",
              "        dataTable['output_type'] = 'display_data';\n",
              "        await google.colab.output.renderOutput(dataTable, element);\n",
              "        const docLink = document.createElement('div');\n",
              "        docLink.innerHTML = docLinkHtml;\n",
              "        element.appendChild(docLink);\n",
              "      }\n",
              "    </script>\n",
              "  </div>\n",
              "\n",
              "\n",
              "<div id=\"df-6581fa6b-3eff-4f1d-8a4c-eb3b00eff79f\">\n",
              "  <button class=\"colab-df-quickchart\" onclick=\"quickchart('df-6581fa6b-3eff-4f1d-8a4c-eb3b00eff79f')\"\n",
              "            title=\"Suggest charts\"\n",
              "            style=\"display:none;\">\n",
              "\n",
              "<svg xmlns=\"http://www.w3.org/2000/svg\" height=\"24px\"viewBox=\"0 0 24 24\"\n",
              "     width=\"24px\">\n",
              "    <g>\n",
              "        <path d=\"M19 3H5c-1.1 0-2 .9-2 2v14c0 1.1.9 2 2 2h14c1.1 0 2-.9 2-2V5c0-1.1-.9-2-2-2zM9 17H7v-7h2v7zm4 0h-2V7h2v10zm4 0h-2v-4h2v4z\"/>\n",
              "    </g>\n",
              "</svg>\n",
              "  </button>\n",
              "\n",
              "<style>\n",
              "  .colab-df-quickchart {\n",
              "      --bg-color: #E8F0FE;\n",
              "      --fill-color: #1967D2;\n",
              "      --hover-bg-color: #E2EBFA;\n",
              "      --hover-fill-color: #174EA6;\n",
              "      --disabled-fill-color: #AAA;\n",
              "      --disabled-bg-color: #DDD;\n",
              "  }\n",
              "\n",
              "  [theme=dark] .colab-df-quickchart {\n",
              "      --bg-color: #3B4455;\n",
              "      --fill-color: #D2E3FC;\n",
              "      --hover-bg-color: #434B5C;\n",
              "      --hover-fill-color: #FFFFFF;\n",
              "      --disabled-bg-color: #3B4455;\n",
              "      --disabled-fill-color: #666;\n",
              "  }\n",
              "\n",
              "  .colab-df-quickchart {\n",
              "    background-color: var(--bg-color);\n",
              "    border: none;\n",
              "    border-radius: 50%;\n",
              "    cursor: pointer;\n",
              "    display: none;\n",
              "    fill: var(--fill-color);\n",
              "    height: 32px;\n",
              "    padding: 0;\n",
              "    width: 32px;\n",
              "  }\n",
              "\n",
              "  .colab-df-quickchart:hover {\n",
              "    background-color: var(--hover-bg-color);\n",
              "    box-shadow: 0 1px 2px rgba(60, 64, 67, 0.3), 0 1px 3px 1px rgba(60, 64, 67, 0.15);\n",
              "    fill: var(--button-hover-fill-color);\n",
              "  }\n",
              "\n",
              "  .colab-df-quickchart-complete:disabled,\n",
              "  .colab-df-quickchart-complete:disabled:hover {\n",
              "    background-color: var(--disabled-bg-color);\n",
              "    fill: var(--disabled-fill-color);\n",
              "    box-shadow: none;\n",
              "  }\n",
              "\n",
              "  .colab-df-spinner {\n",
              "    border: 2px solid var(--fill-color);\n",
              "    border-color: transparent;\n",
              "    border-bottom-color: var(--fill-color);\n",
              "    animation:\n",
              "      spin 1s steps(1) infinite;\n",
              "  }\n",
              "\n",
              "  @keyframes spin {\n",
              "    0% {\n",
              "      border-color: transparent;\n",
              "      border-bottom-color: var(--fill-color);\n",
              "      border-left-color: var(--fill-color);\n",
              "    }\n",
              "    20% {\n",
              "      border-color: transparent;\n",
              "      border-left-color: var(--fill-color);\n",
              "      border-top-color: var(--fill-color);\n",
              "    }\n",
              "    30% {\n",
              "      border-color: transparent;\n",
              "      border-left-color: var(--fill-color);\n",
              "      border-top-color: var(--fill-color);\n",
              "      border-right-color: var(--fill-color);\n",
              "    }\n",
              "    40% {\n",
              "      border-color: transparent;\n",
              "      border-right-color: var(--fill-color);\n",
              "      border-top-color: var(--fill-color);\n",
              "    }\n",
              "    60% {\n",
              "      border-color: transparent;\n",
              "      border-right-color: var(--fill-color);\n",
              "    }\n",
              "    80% {\n",
              "      border-color: transparent;\n",
              "      border-right-color: var(--fill-color);\n",
              "      border-bottom-color: var(--fill-color);\n",
              "    }\n",
              "    90% {\n",
              "      border-color: transparent;\n",
              "      border-bottom-color: var(--fill-color);\n",
              "    }\n",
              "  }\n",
              "</style>\n",
              "\n",
              "  <script>\n",
              "    async function quickchart(key) {\n",
              "      const quickchartButtonEl =\n",
              "        document.querySelector('#' + key + ' button');\n",
              "      quickchartButtonEl.disabled = true;  // To prevent multiple clicks.\n",
              "      quickchartButtonEl.classList.add('colab-df-spinner');\n",
              "      try {\n",
              "        const charts = await google.colab.kernel.invokeFunction(\n",
              "            'suggestCharts', [key], {});\n",
              "      } catch (error) {\n",
              "        console.error('Error during call to suggestCharts:', error);\n",
              "      }\n",
              "      quickchartButtonEl.classList.remove('colab-df-spinner');\n",
              "      quickchartButtonEl.classList.add('colab-df-quickchart-complete');\n",
              "    }\n",
              "    (() => {\n",
              "      let quickchartButtonEl =\n",
              "        document.querySelector('#df-6581fa6b-3eff-4f1d-8a4c-eb3b00eff79f button');\n",
              "      quickchartButtonEl.style.display =\n",
              "        google.colab.kernel.accessAllowed ? 'block' : 'none';\n",
              "    })();\n",
              "  </script>\n",
              "</div>\n",
              "\n",
              "    </div>\n",
              "  </div>\n"
            ],
            "application/vnd.google.colaboratory.intrinsic+json": {
              "type": "dataframe",
              "summary": "{\n  \"name\": \"df_filtrado\",\n  \"rows\": 3,\n  \"fields\": [\n    {\n      \"column\": \"UNID_ORGAO\",\n      \"properties\": {\n        \"dtype\": \"string\",\n        \"num_unique_values\": 3,\n        \"samples\": [\n          \"FEA\",\n          \"ICMC\",\n          \"IME\"\n        ],\n        \"semantic_type\": \"\",\n        \"description\": \"\"\n      }\n    },\n    {\n      \"column\": \"count\",\n      \"properties\": {\n        \"dtype\": \"number\",\n        \"std\": 18.681541692269406,\n        \"min\": 34.0,\n        \"max\": 71.0,\n        \"num_unique_values\": 3,\n        \"samples\": [\n          71.0,\n          34.0,\n          57.0\n        ],\n        \"semantic_type\": \"\",\n        \"description\": \"\"\n      }\n    },\n    {\n      \"column\": \"mean\",\n      \"properties\": {\n        \"dtype\": \"number\",\n        \"std\": 1240.4064442561253,\n        \"min\": 23604.992253521126,\n        \"max\": 25876.560350877196,\n        \"num_unique_values\": 3,\n        \"samples\": [\n          23604.992253521126,\n          23877.174411764707,\n          25876.560350877196\n        ],\n        \"semantic_type\": \"\",\n        \"description\": \"\"\n      }\n    },\n    {\n      \"column\": \"std\",\n      \"properties\": {\n        \"dtype\": \"number\",\n        \"std\": 1140.8656802881505,\n        \"min\": 5710.940992769606,\n        \"max\": 7878.579181526898,\n        \"num_unique_values\": 3,\n        \"samples\": [\n          6177.7252312780265,\n          7878.579181526898,\n          5710.940992769606\n        ],\n        \"semantic_type\": \"\",\n        \"description\": \"\"\n      }\n    },\n    {\n      \"column\": \"min\",\n      \"properties\": {\n        \"dtype\": \"number\",\n        \"std\": 8938.620838591376,\n        \"min\": 0.0,\n        \"max\": 16121.99,\n        \"num_unique_values\": 3,\n        \"samples\": [\n          0.0,\n          1370.86,\n          16121.99\n        ],\n        \"semantic_type\": \"\",\n        \"description\": \"\"\n      }\n    },\n    {\n      \"column\": \"25%\",\n      \"properties\": {\n        \"dtype\": \"number\",\n        \"std\": 973.6841272937274,\n        \"min\": 19953.127500000002,\n        \"max\": 21896.41,\n        \"num_unique_values\": 3,\n        \"samples\": [\n          20815.58,\n          19953.127500000002,\n          21896.41\n        ],\n        \"semantic_type\": \"\",\n        \"description\": \"\"\n      }\n    },\n    {\n      \"column\": \"50%\",\n      \"properties\": {\n        \"dtype\": \"number\",\n        \"std\": 1293.943937386779,\n        \"min\": 23404.75,\n        \"max\": 25985.18,\n        \"num_unique_values\": 3,\n        \"samples\": [\n          24524.94,\n          23404.75,\n          25985.18\n        ],\n        \"semantic_type\": \"\",\n        \"description\": \"\"\n      }\n    },\n    {\n      \"column\": \"75%\",\n      \"properties\": {\n        \"dtype\": \"number\",\n        \"std\": 378.82955916876415,\n        \"min\": 26506.28,\n        \"max\": 27261.89,\n        \"num_unique_values\": 3,\n        \"samples\": [\n          26506.28,\n          26835.86,\n          27261.89\n        ],\n        \"semantic_type\": \"\",\n        \"description\": \"\"\n      }\n    },\n    {\n      \"column\": \"max\",\n      \"properties\": {\n        \"dtype\": \"number\",\n        \"std\": 3770.567687882024,\n        \"min\": 41824.69,\n        \"max\": 48590.51,\n        \"num_unique_values\": 3,\n        \"samples\": [\n          48590.51,\n          41824.69,\n          48091.92\n        ],\n        \"semantic_type\": \"\",\n        \"description\": \"\"\n      }\n    }\n  ]\n}"
            }
          },
          "metadata": {},
          "execution_count": 57
        }
      ]
    },
    {
      "cell_type": "markdown",
      "source": [
        "## Teste"
      ],
      "metadata": {
        "id": "7r4cjLf1mZlj"
      }
    },
    {
      "cell_type": "markdown",
      "source": [
        "Teste 1\n",
        "\n",
        "* H0: Salario IME <= 20K\n",
        "* Ha: Salario IME > 20K"
      ],
      "metadata": {
        "id": "w5DmTQWvnMre"
      }
    },
    {
      "cell_type": "code",
      "source": [
        "unidade = 'IME'\n",
        "salario_hipotese = 20000\n",
        "salarios_unidade = df_filtrado[df_filtrado['UNID_ORGAO'] == unidade]['SALARIO_MENSAL_LIQUIDO']"
      ],
      "metadata": {
        "id": "G3B7v6MSoAPD"
      },
      "execution_count": 58,
      "outputs": []
    },
    {
      "cell_type": "code",
      "source": [
        "st.ttest_1samp(a = salarios_unidade, popmean = salario_hipotese , alternative = 'greater')"
      ],
      "metadata": {
        "colab": {
          "base_uri": "https://localhost:8080/"
        },
        "id": "uIBdOEHAnnc8",
        "outputId": "c95999b8-04c6-4046-c62f-c79608fbf916"
      },
      "execution_count": 60,
      "outputs": [
        {
          "output_type": "execute_result",
          "data": {
            "text/plain": [
              "TtestResult(statistic=7.768782369520324, pvalue=9.291938516607278e-11, df=56)"
            ]
          },
          "metadata": {},
          "execution_count": 60
        }
      ]
    },
    {
      "cell_type": "markdown",
      "source": [
        "Teste 2\n",
        "\n",
        "* H0: S-ime = S-icmc\n",
        "\n",
        "* Ha: S-ime $\\neq$ S-icmc"
      ],
      "metadata": {
        "id": "QOYRlwhwnnfM"
      }
    },
    {
      "cell_type": "code",
      "source": [
        "grupo_a = 'IME'\n",
        "grupo_b = 'ICMC'\n",
        "df_a = df_filtrado[df_filtrado['UNID_ORGAO'] == grupo_a]['SALARIO_MENSAL_LIQUIDO']\n",
        "df_b = df_filtrado[df_filtrado['UNID_ORGAO'] == grupo_b]['SALARIO_MENSAL_LIQUIDO']"
      ],
      "metadata": {
        "id": "aNbs1rLVnnvc"
      },
      "execution_count": 61,
      "outputs": []
    },
    {
      "cell_type": "code",
      "source": [
        "st.ttest_ind(a = df_a, b = df_b, alternative = 'two-sided')"
      ],
      "metadata": {
        "colab": {
          "base_uri": "https://localhost:8080/"
        },
        "id": "6HFy041Ennxs",
        "outputId": "a3b0d434-09e9-47c5-b546-a4f4c7d7de11"
      },
      "execution_count": 62,
      "outputs": [
        {
          "output_type": "execute_result",
          "data": {
            "text/plain": [
              "TtestResult(statistic=1.3983720877787238, pvalue=0.16547618234104694, df=89.0)"
            ]
          },
          "metadata": {},
          "execution_count": 62
        }
      ]
    },
    {
      "cell_type": "code",
      "source": [],
      "metadata": {
        "id": "Aqd53RyOnMy-"
      },
      "execution_count": null,
      "outputs": []
    },
    {
      "cell_type": "code",
      "source": [],
      "metadata": {
        "id": "g66PzPwPnM1u"
      },
      "execution_count": null,
      "outputs": []
    }
  ]
}