{
  "nbformat": 4,
  "nbformat_minor": 0,
  "metadata": {
    "colab": {
      "provenance": [],
      "mount_file_id": "1rlGFSsCtSHIydHlKjTICMTWcuKYNpA2a",
      "authorship_tag": "ABX9TyMNA5gfvhmXOGUFTnNB8/Oj",
      "include_colab_link": true
    },
    "kernelspec": {
      "name": "python3",
      "display_name": "Python 3"
    },
    "language_info": {
      "name": "python"
    }
  },
  "cells": [
    {
      "cell_type": "markdown",
      "metadata": {
        "id": "view-in-github",
        "colab_type": "text"
      },
      "source": [
      ]
    },
    {
      "cell_type": "markdown",
      "source": [
        "# Exemplos de Limites"
      ],
      "metadata": {
        "id": "3A3X3E2mJeJL"
      }
    },
    {
      "cell_type": "markdown",
      "source": [
        "# Bibliotecas"
      ],
      "metadata": {
        "id": "8E1So_V2JfuL"
      }
    },
    {
      "cell_type": "code",
      "source": [
        "import numpy as np\n",
        "import pandas as pd\n",
        "import matplotlib.pyplot as plt"
      ],
      "metadata": {
        "id": "n6qwPL7XJl3L"
      },
      "execution_count": null,
      "outputs": []
    },
    {
      "cell_type": "code",
      "source": [
        "import sympy as sp"
      ],
      "metadata": {
        "id": "gCzQStALJtTo"
      },
      "execution_count": null,
      "outputs": []
    },
    {
      "cell_type": "markdown",
      "source": [
        "# Exemplos\n"
      ],
      "metadata": {
        "id": "KlKoIh3kJ0FC"
      }
    },
    {
      "cell_type": "code",
      "source": [
        "# calculo\n",
        "x = sp.Symbol('x')"
      ],
      "metadata": {
        "id": "wIoaIDoCJ3Re"
      },
      "execution_count": null,
      "outputs": []
    },
    {
      "cell_type": "code",
      "source": [
        "x"
      ],
      "metadata": {
        "colab": {
          "base_uri": "https://localhost:8080/",
          "height": 38
        },
        "id": "spn_LvyeKAeY",
        "outputId": "18e1902c-7943-4bfe-cdf7-79cde8993917"
      },
      "execution_count": null,
      "outputs": [
        {
          "output_type": "execute_result",
          "data": {
            "text/plain": [
              "x"
            ],
            "text/latex": "$\\displaystyle x$"
          },
          "metadata": {},
          "execution_count": 5
        }
      ]
    },
    {
      "cell_type": "code",
      "source": [
        "funcao = 2*x\n",
        "funcao"
      ],
      "metadata": {
        "colab": {
          "base_uri": "https://localhost:8080/",
          "height": 38
        },
        "id": "PjXmKrHlKAnQ",
        "outputId": "1d9bf300-3ad1-48bb-cc46-f97b2920f5e2"
      },
      "execution_count": null,
      "outputs": [
        {
          "output_type": "execute_result",
          "data": {
            "text/plain": [
              "2*x"
            ],
            "text/latex": "$\\displaystyle 2 x$"
          },
          "metadata": {},
          "execution_count": 8
        }
      ]
    },
    {
      "cell_type": "markdown",
      "source": [
        "* Exemplo 1"
      ],
      "metadata": {
        "id": "rJW0zjgnKAwu"
      }
    },
    {
      "cell_type": "markdown",
      "source": [
        "$$\\lim_{x \\to 1}\\frac{x^2+x-2}{x-1}$$"
      ],
      "metadata": {
        "id": "FRU1pA-MLDHP"
      }
    },
    {
      "cell_type": "code",
      "source": [
        "x = sp.Symbol('x')"
      ],
      "metadata": {
        "id": "yXZVO2GLLDM0"
      },
      "execution_count": null,
      "outputs": []
    },
    {
      "cell_type": "code",
      "source": [
        "funcao = (x**2 + x - 2) / (x - 1)\n",
        "funcao"
      ],
      "metadata": {
        "colab": {
          "base_uri": "https://localhost:8080/",
          "height": 55
        },
        "id": "5zQeghtgLDSP",
        "outputId": "d2bf0d3f-0d66-4809-e724-be87ce134dc5"
      },
      "execution_count": null,
      "outputs": [
        {
          "output_type": "execute_result",
          "data": {
            "text/plain": [
              "(x**2 + x - 2)/(x - 1)"
            ],
            "text/latex": "$\\displaystyle \\frac{x^{2} + x - 2}{x - 1}$"
          },
          "metadata": {},
          "execution_count": 14
        }
      ]
    },
    {
      "cell_type": "code",
      "source": [
        "sp.plot(funcao)"
      ],
      "metadata": {
        "colab": {
          "base_uri": "https://localhost:8080/",
          "height": 505
        },
        "id": "X-1OKDnhLDX-",
        "outputId": "8957731a-f1c6-4cb2-b1af-6f023338d609"
      },
      "execution_count": null,
      "outputs": [
        {
          "output_type": "display_data",
          "data": {
            "text/plain": [
              "<Figure size 640x480 with 1 Axes>"
            ],
            "image/png": "[encoded data removed]"
          },
          "metadata": {}
        },
        {
          "output_type": "execute_result",
          "data": {
            "text/plain": [
              "<sympy.plotting.plot.Plot at 0x790fe0dc0ee0>"
            ]
          },
          "metadata": {},
          "execution_count": 15
        }
      ]
    },
    {
      "cell_type": "code",
      "source": [
        "sp.limit(funcao, x ,1)"
      ],
      "metadata": {
        "colab": {
          "base_uri": "https://localhost:8080/",
          "height": 37
        },
        "id": "CltaOgntNdhD",
        "outputId": "b67e6d39-01fe-4c7f-b70b-288a33e10e0b"
      },
      "execution_count": null,
      "outputs": [
        {
          "output_type": "execute_result",
          "data": {
            "text/plain": [
              "3"
            ],
            "text/latex": "$\\displaystyle 3$"
          },
          "metadata": {},
          "execution_count": 16
        }
      ]
    },
    {
      "cell_type": "markdown",
      "source": [
        "* Exemplo 2"
      ],
      "metadata": {
        "id": "hBDhfU6FPDcU"
      }
    },
    {
      "cell_type": "code",
      "source": [
        "funcao2 = (x+1) / (x-2)\n",
        "funcao2"
      ],
      "metadata": {
        "colab": {
          "base_uri": "https://localhost:8080/",
          "height": 52
        },
        "id": "j8Omb4fvNwaQ",
        "outputId": "d27acd3c-67a5-4b99-ee28-5bd94563c46a"
      },
      "execution_count": null,
      "outputs": [
        {
          "output_type": "execute_result",
          "data": {
            "text/plain": [
              "(x + 1)/(x - 2)"
            ],
            "text/latex": "$\\displaystyle \\frac{x + 1}{x - 2}$"
          },
          "metadata": {},
          "execution_count": 21
        }
      ]
    },
    {
      "cell_type": "code",
      "source": [
        "sp.plot(funcao2, xlim = [-5,5], ylim = [-50,50])"
      ],
      "metadata": {
        "colab": {
          "base_uri": "https://localhost:8080/",
          "height": 505
        },
        "id": "ZdJrYhpdN1HC",
        "outputId": "125d7d8b-9e47-405a-ac37-4f9958ea1ec5"
      },
      "execution_count": null,
      "outputs": [
        {
          "output_type": "display_data",
          "data": {
            "text/plain": [
              "<Figure size 640x480 with 1 Axes>"
            ],
            "image/png": "[encoded data removed]"
          },
          "metadata": {}
        },
        {
          "output_type": "execute_result",
          "data": {
            "text/plain": [
              "<sympy.plotting.plot.Plot at 0x790fda995c30>"
            ]
          },
          "metadata": {},
          "execution_count": 27
        }
      ]
    },
    {
      "cell_type": "code",
      "source": [
        "sp.limit(funcao2, x, 2)"
      ],
      "metadata": {
        "colab": {
          "base_uri": "https://localhost:8080/",
          "height": 37
        },
        "id": "WrkjqbmGUM_T",
        "outputId": "3ddecf7f-f254-47ca-da3c-a9fc6555f5cb"
      },
      "execution_count": null,
      "outputs": [
        {
          "output_type": "execute_result",
          "data": {
            "text/plain": [
              "oo"
            ],
            "text/latex": "$\\displaystyle \\infty$"
          },
          "metadata": {},
          "execution_count": 33
        }
      ]
    },
    {
      "cell_type": "markdown",
      "source": [
        "* Exemplos 3"
      ],
      "metadata": {
        "id": "jPmhGUqGN1Kt"
      }
    },
    {
      "cell_type": "code",
      "source": [
        "funcao3 = 2 + 3 * x\n",
        "funcao3"
      ],
      "metadata": {
        "colab": {
          "base_uri": "https://localhost:8080/",
          "height": 38
        },
        "id": "RMZ0OndIN1Nn",
        "outputId": "e8223051-4dbd-4178-b5d0-655d5ebc293b"
      },
      "execution_count": null,
      "outputs": [
        {
          "output_type": "execute_result",
          "data": {
            "text/plain": [
              "3*x + 2"
            ],
            "text/latex": "$\\displaystyle 3 x + 2$"
          },
          "metadata": {},
          "execution_count": 22
        }
      ]
    },
    {
      "cell_type": "code",
      "source": [
        "sp.plot(funcao3)"
      ],
      "metadata": {
        "colab": {
          "base_uri": "https://localhost:8080/",
          "height": 503
        },
        "id": "5yAUAawUN1QW",
        "outputId": "77062639-2b1c-486b-d753-b17ab06610e4"
      },
      "execution_count": null,
      "outputs": [
        {
          "output_type": "display_data",
          "data": {
            "text/plain": [
              "<Figure size 640x480 with 1 Axes>"
            ],
            "image/png": "[encoded data removed]"
          },
          "metadata": {}
        },
        {
          "output_type": "execute_result",
          "data": {
            "text/plain": [
              "<sympy.plotting.plot.Plot at 0x790fdad0e410>"
            ]
          },
          "metadata": {},
          "execution_count": 23
        }
      ]
    },
    {
      "cell_type": "code",
      "source": [
        "sp.limit(funcao, x ,sp.oo)"
      ],
      "metadata": {
        "colab": {
          "base_uri": "https://localhost:8080/",
          "height": 37
        },
        "id": "wGnriIFKUrFQ",
        "outputId": "9e7f05d4-d152-4ea2-fde5-f2022a5d668e"
      },
      "execution_count": null,
      "outputs": [
        {
          "output_type": "execute_result",
          "data": {
            "text/plain": [
              "oo"
            ],
            "text/latex": "$\\displaystyle \\infty$"
          },
          "metadata": {},
          "execution_count": 34
        }
      ]
    },
    {
      "cell_type": "markdown",
      "source": [
        "* Exemplo 4"
      ],
      "metadata": {
        "id": "qUpzvx-fN1x0"
      }
    },
    {
      "cell_type": "code",
      "source": [
        "funcao4 = 2 + 3 * x\n",
        "funcao4"
      ],
      "metadata": {
        "colab": {
          "base_uri": "https://localhost:8080/",
          "height": 38
        },
        "id": "PZKjrqBIRT8X",
        "outputId": "8a1207d6-a322-4167-a318-6f23c8c0c79a"
      },
      "execution_count": null,
      "outputs": [
        {
          "output_type": "execute_result",
          "data": {
            "text/plain": [
              "3*x + 2"
            ],
            "text/latex": "$\\displaystyle 3 x + 2$"
          },
          "metadata": {},
          "execution_count": 28
        }
      ]
    },
    {
      "cell_type": "code",
      "source": [
        "sp.plot(funcao4)"
      ],
      "metadata": {
        "colab": {
          "base_uri": "https://localhost:8080/",
          "height": 503
        },
        "id": "QJRsACUcRgry",
        "outputId": "4d82d527-56d1-4c4e-b792-d614e9aaced2"
      },
      "execution_count": null,
      "outputs": [
        {
          "output_type": "display_data",
          "data": {
            "text/plain": [
              "<Figure size 640x480 with 1 Axes>"
            ],
            "image/png": "[encoded data removed]"
          },
          "metadata": {}
        },
        {
          "output_type": "execute_result",
          "data": {
            "text/plain": [
              "<sympy.plotting.plot.Plot at 0x790fdabf1750>"
            ]
          },
          "metadata": {},
          "execution_count": 29
        }
      ]
    },
    {
      "cell_type": "markdown",
      "source": [
        "* Questão 5"
      ],
      "metadata": {
        "id": "TdXaLfKDRjH4"
      }
    },
    {
      "cell_type": "markdown",
      "source": [
        "$$\\lim_{x \\to 0} \\beta_0 + \\ beta_1 +\\cdot x$$"
      ],
      "metadata": {
        "id": "4EiIB8C9VIxi"
      }
    },
    {
      "cell_type": "code",
      "source": [
        "x = sp.Symbol('x')"
      ],
      "metadata": {
        "id": "9GvkYubIVIn5"
      },
      "execution_count": null,
      "outputs": []
    },
    {
      "cell_type": "code",
      "source": [
        "beta0 = sp.Symbol('beta0')"
      ],
      "metadata": {
        "id": "urJHzlYIVIiG"
      },
      "execution_count": null,
      "outputs": []
    },
    {
      "cell_type": "code",
      "source": [
        "beta1 = sp.Symbol('beta1')"
      ],
      "metadata": {
        "id": "WFFXTef8VIbU"
      },
      "execution_count": null,
      "outputs": []
    },
    {
      "cell_type": "code",
      "source": [
        "funcao5 = beta0 + beta1*x"
      ],
      "metadata": {
        "id": "Bqm-kDEOXEE9"
      },
      "execution_count": null,
      "outputs": []
    },
    {
      "cell_type": "code",
      "source": [
        "sp.limit(funcao5, x, 0)"
      ],
      "metadata": {
        "colab": {
          "base_uri": "https://localhost:8080/",
          "height": 38
        },
        "id": "rEm5JHlURoan",
        "outputId": "62d4bbec-1e52-4bb3-bc97-354796cd5cbb"
      },
      "execution_count": null,
      "outputs": [
        {
          "output_type": "execute_result",
          "data": {
            "text/plain": [
              "beta0"
            ],
            "text/latex": "$\\displaystyle \\beta_{0}$"
          },
          "metadata": {},
          "execution_count": 47
        }
      ]
    },
    {
      "cell_type": "markdown",
      "source": [
        "* Exemplo 6"
      ],
      "metadata": {
        "id": "XacRCN-KZC54"
      }
    },
    {
      "cell_type": "code",
      "source": [
        "funcao6 = 1 / (1 + sp.exp(-x))\n",
        "funcao6"
      ],
      "metadata": {
        "colab": {
          "base_uri": "https://localhost:8080/",
          "height": 52
        },
        "id": "XrYDTla4ZGjj",
        "outputId": "f7304292-efa9-4668-a6be-f477c1a9d0ae"
      },
      "execution_count": null,
      "outputs": [
        {
          "output_type": "execute_result",
          "data": {
            "text/plain": [
              "1/(1 + exp(-x))"
            ],
            "text/latex": "$\\displaystyle \\frac{1}{1 + e^{- x}}$"
          },
          "metadata": {},
          "execution_count": 49
        }
      ]
    },
    {
      "cell_type": "code",
      "source": [
        "sp.limit(funcao6, x, 0), sp.limit(funcao6, x, -sp.oo), sp.limit(funcao6, x, sp.oo)"
      ],
      "metadata": {
        "colab": {
          "base_uri": "https://localhost:8080/"
        },
        "id": "GX4l0Fh2ZPDx",
        "outputId": "dc2e9c98-089d-4b4b-dca1-61dde81ac64a"
      },
      "execution_count": null,
      "outputs": [
        {
          "output_type": "execute_result",
          "data": {
            "text/plain": [
              "(1/2, 0, 1)"
            ]
          },
          "metadata": {},
          "execution_count": 50
        }
      ]
    },
    {
      "cell_type": "code",
      "source": [
        "(lambda x: (x+3)* 5 / 2)(3)"
      ],
      "metadata": {
        "id": "LwlGJlqGZkbn",
        "colab": {
          "base_uri": "https://localhost:8080/"
        },
        "outputId": "4201b009-fb91-464f-de8b-83a2c932a0c1"
      },
      "execution_count": null,
      "outputs": [
        {
          "output_type": "execute_result",
          "data": {
            "text/plain": [
              "15.0"
            ]
          },
          "metadata": {},
          "execution_count": 1
        }
      ]
    },
    {
      "cell_type": "code",
      "source": [],
      "metadata": {
        "id": "sGaQNmSzQIIR"
      },
      "execution_count": null,
      "outputs": []
    }
  ]
}